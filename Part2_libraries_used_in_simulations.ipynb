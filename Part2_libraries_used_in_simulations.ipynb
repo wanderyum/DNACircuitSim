{
 "cells": [
  {
   "cell_type": "markdown",
   "metadata": {},
   "source": [
    "# Simulations for DNA circuits with Python3\n",
    "## Part II Libraries used in simulations\n",
    "This part will introduce the libraries and the functions may be used in the simulations. For more details, you can refer to the official docs: [numpy & scipy](https://docs.scipy.org/doc/) [pandas](http://pandas.pydata.org/pandas-docs/stable/) [matplotlib](https://matplotlib.org/contents.html)"
   ]
  },
  {
   "cell_type": "code",
   "execution_count": null,
   "metadata": {},
   "outputs": [],
   "source": []
  }
 ],
 "metadata": {
  "kernelspec": {
   "display_name": "Python 3",
   "language": "python",
   "name": "python3"
  },
  "language_info": {
   "codemirror_mode": {
    "name": "ipython",
    "version": 3
   },
   "file_extension": ".py",
   "mimetype": "text/x-python",
   "name": "python",
   "nbconvert_exporter": "python",
   "pygments_lexer": "ipython3",
   "version": "3.6.5"
  }
 },
 "nbformat": 4,
 "nbformat_minor": 2
}
