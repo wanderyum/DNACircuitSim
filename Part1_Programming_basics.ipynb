{
 "cells": [
  {
   "cell_type": "markdown",
   "metadata": {},
   "source": [
    "# Simulations for DNA circuits with Python3\n",
    "### Part I Preparative knowledge\n",
    "This part will introduce the basics of Python and all the modules that would be used in the next part. For more details in python, you can refer to [this book](http://shop.oreilly.com/product/0636920028154.do).\n",
    "\n",
    "### 1.1 Python3\n",
    "#### 1.1.1 Variables\n",
    "##### 1.1.1.1 Values and types\n",
    "Here we use jupyter notebook. You can select the cell you want to run and press *Shift+Enter* to run the cell.\n",
    "\n",
    "A value is one of the basic things a program works with, like a letter or a number. The values we have seen so far are 1, 2, and \"Hello, World!\"\n",
    "\n",
    "These values belong to different types: 2 is an integer, and \"Hello, World!\" is a string, so called because it contains a \"string\" of letters. You (and the interpreter) can identify strings because they are enclosed in quotation marks.\n",
    "\n",
    "You can use a *print()* function to display what you want to see. Just put it between the parentheses:"
   ]
  },
  {
   "cell_type": "code",
   "execution_count": 3,
   "metadata": {},
   "outputs": [
    {
     "name": "stdout",
     "output_type": "stream",
     "text": [
      "Hello world\n",
      "2\n"
     ]
    }
   ],
   "source": [
    "print(\"Hello world\")\n",
    "print(2)"
   ]
  },
  {
   "cell_type": "markdown",
   "metadata": {},
   "source": [
    "In python, there are several ways to represent a number: \n",
    "\n",
    "1. you can just input itself, e.g. 1, 2.3\n",
    "2. you can use scientific notation, e.g. 2.3e5 for $2.3 \\times 10^5$, 3.1e-7 for $3.1 \\times 10^{-7}$\n",
    "3. you can use some constants some libraries offer, e.g. np.pi for $\\pi$ (this library will be introduced later)"
   ]
  },
  {
   "cell_type": "code",
   "execution_count": 6,
   "metadata": {},
   "outputs": [
    {
     "name": "stdout",
     "output_type": "stream",
     "text": [
      "4.8\n",
      "3.1e-07\n",
      "3.141592653589793\n"
     ]
    }
   ],
   "source": [
    "import numpy as np\n",
    "print(2.4*2)\n",
    "print(3.1e-7)\n",
    "print(np.pi)"
   ]
  },
  {
   "cell_type": "markdown",
   "metadata": {},
   "source": [
    "##### 1.1.1.2 Variables\n",
    "\n",
    "One of the most powerful features of a programming language is the ability to manipulate variables. A variable is a name that refers to a value.\n",
    "\n",
    "An assignment statement creates new variables and gives them values:"
   ]
  },
  {
   "cell_type": "code",
   "execution_count": 1,
   "metadata": {},
   "outputs": [
    {
     "name": "stdout",
     "output_type": "stream",
     "text": [
      "And now for something completely different\n",
      "205\n"
     ]
    }
   ],
   "source": [
    "message = \"And now for something completely different\"\n",
    "print(message)\n",
    "n = 205\n",
    "print(n)"
   ]
  },
  {
   "cell_type": "markdown",
   "metadata": {},
   "source": [
    "This example makes three assignments. The first assigns a string to a new variable named message; the second assigns the integer 17 to n.\n",
    "\n",
    "##### 1.1.1.3 Variable names and keywords\n",
    "\n",
    "Programmers generally choose names for their variables that are meaningful and document what the variable is used for.\n",
    "\n",
    "Variable names can be arbitrarily long. They can contain both letters and numbers,**but they cannot start with a number**. The underscore character ( _ ) can appear in a name. It is often used in names with multiple words, such as *my_name* or *airspeed_of_unladen_swallow*. Variable names can start with an underscore character, but we generally avoid doing this unless we are writing library code for others to use.\n",
    "\n",
    "The interpreter uses keywords to recognize the structure of the program, and they cannot be used as variable\n",
    "names.\n",
    "\n",
    "Python reserves 33 keywords:\n",
    "\n",
    "**assert else if not while break except import or with class False in pass yield continue finally is raise def for lambda return**\n",
    "\n",
    "##### 1.1.1.4 Comments\n",
    "\n",
    "As programs get bigger and more complicated, they get more difficult to read. Formal languages are dense, and it is often difficult to look at a piece of code and figure out what it is doing, or why.\n",
    "\n",
    "For this reason, it is a good idea to add notes to your programs to explain in natural language what the program is doing. These notes are called comments, and in Python they start with the # symbol:"
   ]
  },
  {
   "cell_type": "code",
   "execution_count": 3,
   "metadata": {},
   "outputs": [
    {
     "name": "stdout",
     "output_type": "stream",
     "text": [
      "50.0\n"
     ]
    }
   ],
   "source": [
    "minute = 30\n",
    "percentage = (minute * 100) / 60 # percentage of an hour\n",
    "print(percentage) # print the result"
   ]
  },
  {
   "cell_type": "markdown",
   "metadata": {},
   "source": [
    "#### 1.1.2 Conditional execution"
   ]
  },
  {
   "cell_type": "code",
   "execution_count": null,
   "metadata": {},
   "outputs": [],
   "source": []
  }
 ],
 "metadata": {
  "kernelspec": {
   "display_name": "Python 3",
   "language": "python",
   "name": "python3"
  },
  "language_info": {
   "codemirror_mode": {
    "name": "ipython",
    "version": 3
   },
   "file_extension": ".py",
   "mimetype": "text/x-python",
   "name": "python",
   "nbconvert_exporter": "python",
   "pygments_lexer": "ipython3",
   "version": "3.6.5"
  }
 },
 "nbformat": 4,
 "nbformat_minor": 2
}
