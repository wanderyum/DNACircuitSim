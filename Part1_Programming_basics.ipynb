{
 "cells": [
  {
   "cell_type": "markdown",
   "metadata": {},
   "source": [
    "# Simulations for DNA circuits with Python3\n",
    "### Part I Preparative knowledge\n",
    "This part will introduce the basics of Python and all the modules that would be used in the next part. For more details in python, you can refer to [this book](http://shop.oreilly.com/product/0636920028154.do).\n",
    "\n",
    "#### 1.1 Python3\n",
    "##### 1.1.1 Values and types\n",
    "Here we use jupyter notebook. You can select the cell you want to run and press *Shift+Enter* to run the cell.\n",
    "\n",
    "A value is one of the basic things a program works with, like a letter or a number. The values we have seen so far are 1, 2, and \"Hello, World!\"\n",
    "\n",
    "These values belong to different types: 2 is an integer, and \"Hello, World!\" is a string, so called because it contains a \"string\" of letters. You (and the interpreter) can identify strings because they are enclosed in quotation marks.\n",
    "\n",
    "You can use a *print()* function to display what you want to see. Just put it between the parentheses:"
   ]
  },
  {
   "cell_type": "code",
   "execution_count": 3,
   "metadata": {},
   "outputs": [
    {
     "name": "stdout",
     "output_type": "stream",
     "text": [
      "Hello world\n",
      "2\n"
     ]
    }
   ],
   "source": [
    "print(\"Hello world\")\n",
    "print(2)"
   ]
  },
  {
   "cell_type": "markdown",
   "metadata": {},
   "source": [
    "In python, there are several ways to represent a number: \n",
    "\n",
    "1. you can just input itself, e.g. 1, 2.3\n",
    "2. you can use scientific notation, e.g. 2.3e5 for $2.3 \\times 10^5$, 3.1e-7 for $3.1 \\times 10^{-7}$\n",
    "3. you can use some constants some libraries offer, e.g. np.pi for $\\pi$ (this library will be introduced later)"
   ]
  },
  {
   "cell_type": "code",
   "execution_count": 6,
   "metadata": {},
   "outputs": [
    {
     "name": "stdout",
     "output_type": "stream",
     "text": [
      "4.8\n",
      "3.1e-07\n",
      "3.141592653589793\n"
     ]
    }
   ],
   "source": [
    "import numpy as np\n",
    "print(2.4*2)\n",
    "print(3.1e-7)\n",
    "print(np.pi)"
   ]
  },
  {
   "cell_type": "markdown",
   "metadata": {},
   "source": [
    "##### 1.1.2 Variables"
   ]
  },
  {
   "cell_type": "code",
   "execution_count": null,
   "metadata": {},
   "outputs": [],
   "source": []
  }
 ],
 "metadata": {
  "kernelspec": {
   "display_name": "Python 3",
   "language": "python",
   "name": "python3"
  },
  "language_info": {
   "codemirror_mode": {
    "name": "ipython",
    "version": 3
   },
   "file_extension": ".py",
   "mimetype": "text/x-python",
   "name": "python",
   "nbconvert_exporter": "python",
   "pygments_lexer": "ipython3",
   "version": "3.6.5"
  }
 },
 "nbformat": 4,
 "nbformat_minor": 2
}
