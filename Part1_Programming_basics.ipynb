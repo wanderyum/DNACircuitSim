{
 "cells": [
  {
   "cell_type": "markdown",
   "metadata": {},
   "source": [
    "# Simulations for DNA circuits with Python3\n",
    "## Part I Preparative knowledge\n",
    "This part will introduce the basics of Python and all the modules that would be used in the next part. For more details in python, you can refer to [this book](http://shop.oreilly.com/product/0636920028154.do).\n",
    "\n",
    "### 1.1 Python3\n",
    "#### 1.1.1 Variables\n",
    "##### 1.1.1.1 Values and types\n",
    "Here we use jupyter notebook. You can select the cell you want to run and press *Shift+Enter* to run the cell.\n",
    "\n",
    "A value is one of the basic things a program works with, like a letter or a number. The values we have seen so far are 1, 2, and \"Hello, World!\"\n",
    "\n",
    "These values belong to different types: 2 is an integer, and \"Hello, World!\" is a string, so called because it contains a \"string\" of letters. You (and the interpreter) can identify strings because they are enclosed in quotation marks.\n",
    "\n",
    "You can use a *print()* function to display what you want to see. Just put it between the parentheses:"
   ]
  },
  {
   "cell_type": "code",
   "execution_count": 1,
   "metadata": {},
   "outputs": [
    {
     "name": "stdout",
     "output_type": "stream",
     "text": [
      "Hello world\n",
      "2\n"
     ]
    }
   ],
   "source": [
    "print(\"Hello world\")\n",
    "print(2)"
   ]
  },
  {
   "cell_type": "markdown",
   "metadata": {},
   "source": [
    "In python, there are several ways to represent a number: \n",
    "\n",
    "1. you can just input itself, e.g. 1, 2.3\n",
    "2. you can use scientific notation, e.g. 2.3e5 for $2.3 \\times 10^5$, 3.1e-7 for $3.1 \\times 10^{-7}$\n",
    "3. you can use some constants some libraries offer, e.g. np.pi for $\\pi$ (this library will be introduced later)"
   ]
  },
  {
   "cell_type": "code",
   "execution_count": 2,
   "metadata": {},
   "outputs": [
    {
     "name": "stdout",
     "output_type": "stream",
     "text": [
      "4.8\n",
      "3.1e-07\n",
      "3.141592653589793\n"
     ]
    }
   ],
   "source": [
    "import numpy as np\n",
    "print(2.4*2)\n",
    "print(3.1e-7)\n",
    "print(np.pi)"
   ]
  },
  {
   "cell_type": "markdown",
   "metadata": {},
   "source": [
    "##### 1.1.1.2 Variables\n",
    "\n",
    "One of the most powerful features of a programming language is the ability to manipulate variables. A variable is a name that refers to a value.\n",
    "\n",
    "An assignment statement creates new variables and gives them values:"
   ]
  },
  {
   "cell_type": "code",
   "execution_count": 3,
   "metadata": {},
   "outputs": [
    {
     "name": "stdout",
     "output_type": "stream",
     "text": [
      "And now for something completely different\n",
      "205\n"
     ]
    }
   ],
   "source": [
    "message = \"And now for something completely different\"\n",
    "print(message)\n",
    "n = 205\n",
    "print(n)"
   ]
  },
  {
   "cell_type": "markdown",
   "metadata": {},
   "source": [
    "This example makes three assignments. The first assigns a string to a new variable named message; the second assigns the integer 17 to n.\n",
    "\n",
    "##### 1.1.1.3 Variable names and keywords\n",
    "\n",
    "Programmers generally choose names for their variables that are meaningful and document what the variable is used for.\n",
    "\n",
    "Variable names can be arbitrarily long. They can contain both letters and numbers,**but they cannot start with a number**. The underscore character ( _ ) can appear in a name. It is often used in names with multiple words, such as *my_name* or *airspeed_of_unladen_swallow*. Variable names can start with an underscore character, but we generally avoid doing this unless we are writing library code for others to use.\n",
    "\n",
    "The interpreter uses keywords to recognize the structure of the program, and they cannot be used as variable\n",
    "names.\n",
    "\n",
    "Python reserves 33 keywords:\n",
    "\n",
    "**assert else if not while break except import or with class False in pass yield continue finally is raise def for lambda return**\n",
    "\n",
    "##### 1.1.1.4 Comments\n",
    "\n",
    "As programs get bigger and more complicated, they get more difficult to read. Formal languages are dense, and it is often difficult to look at a piece of code and figure out what it is doing, or why.\n",
    "\n",
    "For this reason, it is a good idea to add notes to your programs to explain in natural language what the program is doing. These notes are called comments, and in Python they start with the # symbol:"
   ]
  },
  {
   "cell_type": "code",
   "execution_count": 4,
   "metadata": {},
   "outputs": [
    {
     "name": "stdout",
     "output_type": "stream",
     "text": [
      "50.0\n"
     ]
    }
   ],
   "source": [
    "minute = 30\n",
    "percentage = (minute * 100) / 60 # percentage of an hour\n",
    "print(percentage) # print the result"
   ]
  },
  {
   "cell_type": "markdown",
   "metadata": {},
   "source": [
    "#### 1.1.2 Conditional execution\n",
    "##### 1.1.2.1 Boolean expressions\n",
    "A boolean expression is an expression that is either true or false. The following examples use the operator ==, which compares two operands and produces True if they are equal and False otherwise:"
   ]
  },
  {
   "cell_type": "code",
   "execution_count": 5,
   "metadata": {},
   "outputs": [
    {
     "name": "stdout",
     "output_type": "stream",
     "text": [
      "True\n",
      "False\n"
     ]
    }
   ],
   "source": [
    "print(5 == 5)\n",
    "print(5 == 6)"
   ]
  },
  {
   "cell_type": "markdown",
   "metadata": {},
   "source": [
    "The == operator is one of the comparison operators; the others are:\n",
    "\n",
    "- x != y    # x is not equal to y\n",
    "- x > y     # x is greater than y\n",
    "- x < y     # x is less than y\n",
    "- x >= y    # x is greater than or equal to y\n",
    "- x <= y    # x is less than or equal to y\n",
    "\n",
    "##### 1.1.2.2 Logical operators\n",
    "There are three logical operators: and, or, and not. The semantics (meaning) of these operators is similar to their meaning in English. For example,\n",
    "\n",
    "x > 0 and x < 10\n",
    "\n",
    "is true only if x is greater than 0 and less than 10.\n",
    "\n",
    "Strictly speaking, the operands of the logical operators should be boolean expressions, but Python is not very strict. Any nonzero number is interpreted as “true.”"
   ]
  },
  {
   "cell_type": "code",
   "execution_count": 6,
   "metadata": {},
   "outputs": [
    {
     "name": "stdout",
     "output_type": "stream",
     "text": [
      "True\n"
     ]
    }
   ],
   "source": [
    "print(13 and True)"
   ]
  },
  {
   "cell_type": "markdown",
   "metadata": {},
   "source": [
    "##### 1.1.2.3 Conditional execution\n",
    "In order to write useful programs, we almost always need the ability to check conditions and change the behavior of the program accordingly. Conditional statements give us this ability. The simplest form is the if statement:\n",
    "\n",
    "``` python\n",
    "if x > 0 :\n",
    "    print('x is positive')\n",
    "```\n",
    "\n",
    "The boolean expression after the if statement is called the condition. We end the if statement with a colon character (:) and the line(s) after the if statement are indented.\n",
    "\n",
    "![](Figs/fig_1_1.png)\n",
    "\n",
    "If the logical condition is true, then the indented statement gets executed. If the logical condition is false, the indented statement is skipped.\n",
    "\n",
    "The statement consists of a header line that ends with the colon character (:) followed by an indented block. Statements like this are called compound statements because they stretch across more than one line.\n",
    "\n",
    "##### 1.1.2.4 Chained conditionals\n",
    "Sometimes there are more than two possibilities and we need more than two branches. One way to express a computation like that is a chained conditional:\n",
    "\n",
    "``` python\n",
    "if x < y:\n",
    "    print('x is less than y')\n",
    "elif x > y:\n",
    "    print('x is greater than y')\n",
    "else:\n",
    "    print('x and y are equal')\n",
    "```\n",
    "\n",
    "*elif* is an abbreviation of “else if.” Again, exactly one branch will be executed.\n",
    "\n",
    "There is no limit on the number of elif statements. If there is an else clause, it has to be at the end, but there doesn’t have to be one.\n",
    "\n",
    "![](Figs/fig_1_2.png)\n",
    "\n",
    "Each condition is checked in order. If the first is false, the next is checked, and so on. If one of them is true, the corresponding branch executes, and the statement ends. Even if more than one condition is true, only the first true branch executes.\n",
    "\n",
    "#### 1.1.3 Functions\n",
    "##### 1.1.3.1 Function calls\n",
    "In the context of programming, a function is a named sequence of statements that performs a computation. When you define a function, you specify the name and the sequence of statements. Later, you can “call” the function by name. We have already seen one example of a function call:"
   ]
  },
  {
   "cell_type": "code",
   "execution_count": 2,
   "metadata": {},
   "outputs": [
    {
     "name": "stdout",
     "output_type": "stream",
     "text": [
      "<class 'int'>\n"
     ]
    }
   ],
   "source": [
    "print(type(13))"
   ]
  },
  {
   "cell_type": "markdown",
   "metadata": {},
   "source": [
    "The name of the function is *type*. The expression in parentheses is called the argument of the function. The argument is a value or variable that we are passing into the function as input to the function. The result, for the type function, is the type of the argument.\n",
    "\n",
    "It is common to say that a function “takes” an argument and “returns” a result. The result is called the *return value*.\n",
    "\n",
    "##### 1.1.3.2 Built-in functions\n",
    "Python provides a number of important built-in functions that we can use without needing to provide the function definition. The creators of Python wrote a set of functions to solve common problems and included them in Python for us to use.\n",
    "\n",
    "The *len* function  tells us how many items are in its argument. If the argument to len is a string, it returns the number of characters in the string."
   ]
  },
  {
   "cell_type": "code",
   "execution_count": 1,
   "metadata": {},
   "outputs": [
    {
     "name": "stdout",
     "output_type": "stream",
     "text": [
      "11\n"
     ]
    }
   ],
   "source": [
    "print(len('Hello world'))"
   ]
  },
  {
   "cell_type": "markdown",
   "metadata": {},
   "source": [
    "This function is not limited to looking at strings. They can operate on any set of values, as we will see later.\n",
    "\n",
    "##### 1.1.3.3 Adding new functions\n",
    "It is also possible to add new functions. A function definition specifies the name of a new function and the sequence of statements that execute when the function is called. Once we define a function, we can reuse the function over and over throughout our program.\n",
    "\n",
    "Here is an example:\n",
    "\n",
    "``` python\n",
    "def print_lyrics():\n",
    "    print(\"I'm sitting here in the boring room.\")\n",
    "    print(\"It's just another rainy Sunday afternoon.\")\n",
    "```\n",
    "\n",
    "*def* is a keyword that indicates that this is a function definition. The name of the function is print_lyrics. The rules for function names are the same as for variable names: letters, numbers and some punctuation marks are legal, but the first character can’t be a number. You can’t use a keyword as the name of a function, and you should avoid having a variable and a function with the same name.\n",
    "\n",
    "The empty parentheses after the name indicate that this function doesn’t take any arguments. Later we will build functions that take arguments as their inputs.\n",
    "\n",
    "The first line of the function definition is called the *header*; the rest is called the *body*. The header has to end with a colon and the body has to be indented.\n",
    "By convention, the indentation is always four spaces. The body can contain any\n",
    "number of statements.\n",
    "\n",
    "The syntax for calling the new function is the same as for built-in functions:"
   ]
  },
  {
   "cell_type": "code",
   "execution_count": 2,
   "metadata": {},
   "outputs": [
    {
     "name": "stdout",
     "output_type": "stream",
     "text": [
      "I'm sitting here in the boring room.\n",
      "It's just another rainy Sunday afternoon.\n"
     ]
    }
   ],
   "source": [
    "def print_lyrics():    # define the function\n",
    "    print(\"I'm sitting here in the boring room.\")\n",
    "    print(\"It's just another rainy Sunday afternoon.\")\n",
    "\n",
    "print_lyrics()         # call the function"
   ]
  },
  {
   "cell_type": "markdown",
   "metadata": {},
   "source": [
    "##### 1.1.3.4 Parameters and arguments\n",
    "Some of the built-in functions we have seen require arguments. For example, when you call print you pass a string as an argument.\n",
    "\n",
    "Inside the function, the arguments are assigned to variables called parameters. Here is an example of a user-defined function that takes an argument:"
   ]
  },
  {
   "cell_type": "code",
   "execution_count": 4,
   "metadata": {},
   "outputs": [
    {
     "name": "stdout",
     "output_type": "stream",
     "text": [
      "Spam\n",
      "Spam\n",
      "22.2\n",
      "22.2\n"
     ]
    }
   ],
   "source": [
    "def print_twice(bruce):\n",
    "    print(bruce)\n",
    "    print(bruce)\n",
    "\n",
    "print_twice('Spam')\n",
    "print_twice(22.2)"
   ]
  },
  {
   "cell_type": "markdown",
   "metadata": {},
   "source": [
    "This function assigns the argument to a parameter named bruce. When the function is called, it prints the value of the parameter (whatever it is) twice. \n",
    "\n",
    "You can also use a variable as an argument:"
   ]
  },
  {
   "cell_type": "code",
   "execution_count": 5,
   "metadata": {},
   "outputs": [
    {
     "name": "stdout",
     "output_type": "stream",
     "text": [
      "Hi, there!\n",
      "Hi, there!\n"
     ]
    }
   ],
   "source": [
    "text = 'Hi, there!'\n",
    "print_twice(text)"
   ]
  },
  {
   "cell_type": "markdown",
   "metadata": {},
   "source": [
    "It is also possible to designate a default value to an argument, so that if no value is inputed, the parameter will take the default value:"
   ]
  },
  {
   "cell_type": "code",
   "execution_count": 6,
   "metadata": {},
   "outputs": [
    {
     "name": "stdout",
     "output_type": "stream",
     "text": [
      "default\n",
      "default\n",
      "not default\n",
      "not default\n"
     ]
    }
   ],
   "source": [
    "def print_twice(bruce='default'):\n",
    "    print(bruce)\n",
    "    print(bruce)\n",
    "    \n",
    "print_twice()                # default\n",
    "print_twice('not default')   # input"
   ]
  },
  {
   "cell_type": "markdown",
   "metadata": {},
   "source": [
    "##### 1.1.3.5 Fruitful functions and void functions\n",
    "Some of the functions we are using, such as *len*, yield results; for lack of a better name, I call them fruitful functions. Other functions, like print_twice, perform an action but don’t return a value. They are called void functions.\n",
    "\n",
    "When you call a fruitful function, you almost always want to do something with the result; for example, you might assign it to a variable or use it as part of an expression:\n",
    "\n",
    "``` python\n",
    "x = len('Hello world~')\n",
    "```\n",
    "\n",
    "In a script, if you call a fruitful function and do not store the result of the function in a variable, the return value vanishes into the mist!\n",
    "\n",
    "Void functions might display something on the screen or have some other effect, but they don’t have a return value. If you try to assign the result to a variable, you get a special value called *None*.\n",
    "\n"
   ]
  },
  {
   "cell_type": "code",
   "execution_count": 7,
   "metadata": {},
   "outputs": [
    {
     "name": "stdout",
     "output_type": "stream",
     "text": [
      "Bang\n",
      "Bang\n",
      "None\n"
     ]
    }
   ],
   "source": [
    "result = print_twice('Bang')\n",
    "print(result)"
   ]
  },
  {
   "cell_type": "markdown",
   "metadata": {},
   "source": [
    "To return a result from a function, we use the return statement in our function. For example, we could make a very simple function called addtwo that adds two numbers together and returns a result."
   ]
  },
  {
   "cell_type": "code",
   "execution_count": 8,
   "metadata": {},
   "outputs": [
    {
     "name": "stdout",
     "output_type": "stream",
     "text": [
      "7\n"
     ]
    }
   ],
   "source": [
    "def addtwo(a, b):\n",
    "    added = a + b\n",
    "    return added\n",
    "\n",
    "x = addtwo(2, 5)\n",
    "print(x)"
   ]
  },
  {
   "cell_type": "markdown",
   "metadata": {},
   "source": [
    "#### 1.1.4 Iteration\n",
    "##### 1.1.4.1 Updating variables\n",
    "A common pattern in assignment statements is an assignment statement that updates a variable, where the new value of the variable depends on the old.\n",
    "\n",
    "``` python\n",
    "x = x + 1\n",
    "```\n",
    "\n",
    "This means “get the current value of x, add 1, and then update x with the new value.”\n",
    "\n",
    "##### 1.1.4.2 The while statement\n",
    "Computers are often used to automate repetitive tasks. Repeating identical or similar tasks without making errors is something that computers do well and people do poorly. Because iteration is so common, Python provides several language features to make it easier.\n",
    "\n",
    "One form of iteration in Python is the while statement. Here is a simple program that counts down from five and then says “Blastoff!”."
   ]
  },
  {
   "cell_type": "code",
   "execution_count": 2,
   "metadata": {},
   "outputs": [
    {
     "name": "stdout",
     "output_type": "stream",
     "text": [
      "5\n",
      "4\n",
      "3\n",
      "2\n",
      "1\n",
      "Blastoff!\n"
     ]
    }
   ],
   "source": [
    "n = 5\n",
    "while n > 0:\n",
    "    print(n)\n",
    "    n = n - 1\n",
    "print('Blastoff!')"
   ]
  },
  {
   "cell_type": "markdown",
   "metadata": {},
   "source": [
    "You can almost read the while statement as if it were English. It means, “While n is greater than 0, display the value of n and then reduce the value of n by 1. When you get to 0, exit the while statement and display the word Blastoff!”\n",
    "\n",
    "More formally, here is the flow of execution for a while statement:\n",
    "\n",
    "1. Evaluate the condition, yielding True or False.\n",
    "2. If the condition is false, exit the while statement and continue execution at the next statement.\n",
    "3. If the condition is true, execute the body and then go back to step 1.\n",
    "\n",
    "This type of flow is called a loop because the third step loops back around to the top. We call each time we execute the body of the loop an iteration. For the above loop, we would say, “It had five iterations”, which means that the body of the loop was executed five times.\n",
    "\n",
    "##### 1.1.4.3 Definite loops using for\n",
    "Sometimes we want to loop through a set of things such as a list of words, the lines in a file, or a list of numbers. When we have a list of things to loop through, we can construct a definite loop using a **for** statement. We call the **while** statement an indefinite loop because it simply loops until some condition becomes False, whereas the for loop is looping through a known set of items so it runs through as many iterations as there are items in the set.\n",
    "\n",
    "The syntax of a **for** loop is similar to the **while** loop in that there is a **for** statement and a loop body:"
   ]
  },
  {
   "cell_type": "code",
   "execution_count": 4,
   "metadata": {},
   "outputs": [
    {
     "name": "stdout",
     "output_type": "stream",
     "text": [
      "Happy New Year: Joseph\n",
      "Happy New Year: Glenn\n",
      "Happy New Year: Sally\n",
      "Done!\n"
     ]
    }
   ],
   "source": [
    "friends = ['Joseph', 'Glenn', 'Sally']\n",
    "for friend in friends:\n",
    "    print('Happy New Year:', friend)\n",
    "print('Done!')"
   ]
  },
  {
   "cell_type": "markdown",
   "metadata": {},
   "source": [
    "In Python terms, the variable *friends* is a list(we will examine lists in more detail later) of three strings and the for loop goes through the list and executes the body once for each of the three strings in the list resulting in this output.\n",
    "\n",
    "Translating this **for** loop to English is not as direct as the **while**, but if you think of friends as a set, it goes like this: “Run the statements in the body of the for loop once for each friend in the set named friends.”\n",
    "\n",
    "Looking at the **for** loop, *for* and *in* are reserved Python keywords, and *friend* and *friends* are variables.\n",
    "\n",
    "In particular, *friend* is the iteration variable for the for loop. The variable *friend* changes for each iteration of the loop and controls when the **for** loop completes. The iteration variable steps successively through the three strings stored in the *friends* variable.\n",
    "\n",
    "#### 1.1.5 Strings\n",
    "##### 1.1.5.1 A string is a sequence\n",
    "A string is a sequence of characters. You can access the characters one at a time with the bracket operator:"
   ]
  },
  {
   "cell_type": "code",
   "execution_count": 5,
   "metadata": {},
   "outputs": [
    {
     "name": "stdout",
     "output_type": "stream",
     "text": [
      "a\n"
     ]
    }
   ],
   "source": [
    "fruit = 'banana'\n",
    "letter = fruit[1]\n",
    "print(letter)"
   ]
  },
  {
   "cell_type": "markdown",
   "metadata": {},
   "source": [
    "The second statement extracts the character at index position 1 from the *fruit* variable and assigns it to the *letter* variable.\n",
    "\n",
    "The expression in brackets is called an index. The index indicates which character in the sequence you want (hence the name).\n",
    "\n",
    "For most people, the first letter of “banana” is “b”, not “a”. But in Python, the index is an offset from the beginning of the string, and the offset of the first letter is zero.\n",
    "\n",
    "So “b” is the 0th letter (“zero-th”) of “banana”, “a” is the 1th letter (“one-th”), and “n” is the 2th (“two-th”) letter.\n",
    "\n",
    "You can use any expression, including variables and operators, as an index, but the value of the index has to be an integer.\n",
    "\n",
    "| b | a | n | a | n | a |\n",
    "| ------ | ------ | ------ | ------ | ------ | ------ |\n",
    "| [0] | [1] | [2] | [3] | [4] | [5] |\n",
    "\n",
    "##### 1.1.5.2 Getting the length of a string using len\n",
    "len is a built-in function that returns the number of characters in a string:"
   ]
  },
  {
   "cell_type": "code",
   "execution_count": 6,
   "metadata": {},
   "outputs": [
    {
     "name": "stdout",
     "output_type": "stream",
     "text": [
      "6\n"
     ]
    }
   ],
   "source": [
    "fruit = 'banana'\n",
    "print(len(fruit))"
   ]
  },
  {
   "cell_type": "markdown",
   "metadata": {},
   "source": [
    "##### 1.1.5.3 String slices\n",
    "A segment of a string is called a *slice*. Selecting a slice is similar to selecting a character:"
   ]
  },
  {
   "cell_type": "code",
   "execution_count": 7,
   "metadata": {},
   "outputs": [
    {
     "name": "stdout",
     "output_type": "stream",
     "text": [
      "Monty\n",
      "Python\n"
     ]
    }
   ],
   "source": [
    "s = 'Monty Python'\n",
    "print(s[0:5])\n",
    "print(s[6:12])"
   ]
  },
  {
   "cell_type": "markdown",
   "metadata": {},
   "source": [
    "The operator returns the part of the string from the “n-th” character to the “m-th” character, including the first but excluding the last.\n",
    "\n",
    "If you omit the first index (before the colon), the slice starts at the beginning of the string. If you omit the second index, the slice goes to the end of the string:"
   ]
  },
  {
   "cell_type": "code",
   "execution_count": 8,
   "metadata": {},
   "outputs": [
    {
     "name": "stdout",
     "output_type": "stream",
     "text": [
      "Monty \n",
      "Python\n"
     ]
    }
   ],
   "source": [
    "s = 'Monty Python'\n",
    "print(s[:6])\n",
    "print(s[6:])"
   ]
  },
  {
   "cell_type": "markdown",
   "metadata": {},
   "source": [
    "##### 1.1.5.4 Strings are immutable\n",
    "It is tempting to use the operator on the left side of an assignment, with the intention of changing a character in a string. For example:"
   ]
  },
  {
   "cell_type": "code",
   "execution_count": 9,
   "metadata": {},
   "outputs": [
    {
     "ename": "TypeError",
     "evalue": "'str' object does not support item assignment",
     "output_type": "error",
     "traceback": [
      "\u001b[0;31m---------------------------------------------------------------------------\u001b[0m",
      "\u001b[0;31mTypeError\u001b[0m                                 Traceback (most recent call last)",
      "\u001b[0;32m<ipython-input-9-217c78420f62>\u001b[0m in \u001b[0;36m<module>\u001b[0;34m()\u001b[0m\n\u001b[1;32m      1\u001b[0m \u001b[0mgreeting\u001b[0m \u001b[0;34m=\u001b[0m \u001b[0;34m'Hello, world!'\u001b[0m\u001b[0;34m\u001b[0m\u001b[0m\n\u001b[0;32m----> 2\u001b[0;31m \u001b[0mgreeting\u001b[0m\u001b[0;34m[\u001b[0m\u001b[0;36m0\u001b[0m\u001b[0;34m]\u001b[0m \u001b[0;34m=\u001b[0m \u001b[0;34m'J'\u001b[0m\u001b[0;34m\u001b[0m\u001b[0m\n\u001b[0m",
      "\u001b[0;31mTypeError\u001b[0m: 'str' object does not support item assignment"
     ]
    }
   ],
   "source": [
    "greeting = 'Hello, world!'\n",
    "greeting[0] = 'J'"
   ]
  },
  {
   "cell_type": "markdown",
   "metadata": {},
   "source": [
    "The “object” in this case is the string and the “item” is the character you tried to assign. For now, an object is the same thing as a value, but we will refine that definition later. An item is one of the values in a sequence.\n",
    "\n",
    "The reason for the error is that strings are immutable, which means you can’t change an existing string. The best you can do is create a new string that is a variation on the original:"
   ]
  },
  {
   "cell_type": "code",
   "execution_count": 11,
   "metadata": {},
   "outputs": [
    {
     "name": "stdout",
     "output_type": "stream",
     "text": [
      "Jello, world!\n",
      "Hello, world!\n"
     ]
    }
   ],
   "source": [
    "greeting = 'Hello, world!'\n",
    "new_greeting = 'J' + greeting[1:]\n",
    "print(new_greeting)\n",
    "print(greeting)"
   ]
  },
  {
   "cell_type": "markdown",
   "metadata": {},
   "source": [
    "This example concatenates a new first letter onto a slice of greeting. It has no effect on the original string.\n",
    "\n",
    "##### 1.1.5.5 Format operator\n",
    "The format operator, % allows us to construct strings, replacing parts of the strings with the data stored in variables. When applied to integers, % is the modulus operator. But when the first operand is a string, % is the format operator.\n",
    "\n",
    "The first operand is the format string, which contains one or more format sequences that specify how the second operand is formatted. The result is a string.\n",
    "\n",
    "For example, the format sequence %d means that the second operand should be formatted as an integer (“d” stands for “decimal”):"
   ]
  },
  {
   "cell_type": "code",
   "execution_count": 12,
   "metadata": {},
   "outputs": [
    {
     "name": "stdout",
     "output_type": "stream",
     "text": [
      "I have spotted 42 camels.\n"
     ]
    }
   ],
   "source": [
    "camels = 42\n",
    "print('I have spotted %d camels.' % camels)"
   ]
  },
  {
   "cell_type": "markdown",
   "metadata": {},
   "source": [
    "If there is more than one format sequence in the string, the second argument has to be a tuple(A tuple is a sequence of comma-separated values inside a pair of parenthesis) . Each format sequence is matched with an element of the tuple, in order.\n",
    "\n",
    "The following example uses %d to format an integer, %g to format a floating-point number (don’t ask why), and %s to format a string:"
   ]
  },
  {
   "cell_type": "code",
   "execution_count": 13,
   "metadata": {},
   "outputs": [
    {
     "name": "stdout",
     "output_type": "stream",
     "text": [
      "In 3 years I have spotted 0.1 camels.\n"
     ]
    }
   ],
   "source": [
    "print('In %d years I have spotted %g %s.' % (3, 0.1, 'camels'))"
   ]
  },
  {
   "cell_type": "markdown",
   "metadata": {},
   "source": [
    "The format operator is powerful, but it can be difficult to use. You can read more about it at [https://docs.python.org/3.5/library/stdtypes.html#printf-style-string-formatting](https://docs.python.org/3.5/library/stdtypes.html#printf-style-string-formatting)"
   ]
  },
  {
   "cell_type": "code",
   "execution_count": null,
   "metadata": {},
   "outputs": [],
   "source": []
  }
 ],
 "metadata": {
  "kernelspec": {
   "display_name": "Python 3",
   "language": "python",
   "name": "python3"
  },
  "language_info": {
   "codemirror_mode": {
    "name": "ipython",
    "version": 3
   },
   "file_extension": ".py",
   "mimetype": "text/x-python",
   "name": "python",
   "nbconvert_exporter": "python",
   "pygments_lexer": "ipython3",
   "version": "3.5.2"
  }
 },
 "nbformat": 4,
 "nbformat_minor": 2
}
