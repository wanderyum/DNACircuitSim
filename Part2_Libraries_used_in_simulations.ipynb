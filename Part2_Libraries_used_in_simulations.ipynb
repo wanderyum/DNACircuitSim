{
 "cells": [
  {
   "cell_type": "markdown",
   "metadata": {},
   "source": [
    "# Simulations for DNA circuits with Python3\n",
    "## Part II Libraries used in simulations\n",
    "This part will introduce the libraries(modules) and the functions may be used in the simulations. For more details, you can refer to the official docs: [numpy & scipy](https://docs.scipy.org/doc/) [pandas](http://pandas.pydata.org/pandas-docs/stable/) [matplotlib](https://matplotlib.org/contents.html)\n",
    "\n",
    "### 2.1 Modules\n",
    "Python module is the highest-level program organization unit, which packages program code and data for reuse, and provides self-contained namespaces that minimize variable name clashes across your programs. In concrete terms, modules typically correspond to Python program files. Each file is a module, and modules import other modules to use the names they define. \n",
    "\n",
    "Python modules are easy to create; they're just files of Python program code created with a text editor. You don't need to write special syntax to tell Python you're making a module; almost any text file will do. Because Python handles all the details of finding and loading modules, modules are also easy to use; clients simply import a module, or specific names a module defines, and use the objects they reference.\n",
    "\n",
    "#### 2.1.1 Module Creation\n",
    "To define a module, simply use your text editor to type some Python code into a text file, and save it with a “.py” extension; any such file is automatically considered a Python module. All the names assigned at the top level of the module become its attributes (names associated with the module object) and are exported for clients to use—they morph from variable to module object attribute automatically.\n",
    "\n",
    "For instance, if you type the following def into a file called module1.py and import it, you create a module object with one attribute—the name printer , which happens to be a reference to a function object:\n",
    "\n",
    "``` python\n",
    "def printer(x):        # Module attribute\n",
    "    print(x)\n",
    "```\n"
   ]
  },
  {
   "cell_type": "markdown",
   "metadata": {},
   "source": [
    "#### 2.1.2 Module Usage\n",
    "Clients can use the simple module file we just wrote by running an **import** or **from** statement. Both statements find, compile, and run a module file's code, if it hasn't yet been loaded. The chief difference is that **import** fetches the module as a whole, so you must qualify to fetch its names; in contrast, **from** fetches (or copies) specific names out of the module.\n",
    "\n",
    "Let's see what this means in terms of code. All of the following examples wind up calling the printer function defined in the prior section's module1.py module file, but in different ways.\n",
    "\n",
    "##### The import Statement\n",
    "In the first example, the name **module1** serves two different purposes—it identifies an external file to be loaded, and it becomes a variable in the script, which references the module object after the file is loaded:"
   ]
  },
  {
   "cell_type": "code",
   "execution_count": 1,
   "metadata": {},
   "outputs": [
    {
     "name": "stdout",
     "output_type": "stream",
     "text": [
      "Hello world!\n"
     ]
    }
   ],
   "source": [
    "import module1                         # Get module as a whole (one or more)\n",
    "module1.printer('Hello world!')        # Qualify to get names"
   ]
  },
  {
   "cell_type": "markdown",
   "metadata": {},
   "source": [
    "The import statement simply lists one or more names of modules to load, separated by commas. Because it gives a name that refers to the whole module object, we must go through the module name to fetch its attributes (e.g., module1.printer ).\n",
    "\n",
    "##### The from Statement\n",
    "By contrast, because from copies specific names from one file over to another scope, it allows us to use the copied names directly in the script without going through the module (e.g., printer):"
   ]
  },
  {
   "cell_type": "code",
   "execution_count": 1,
   "metadata": {},
   "outputs": [
    {
     "name": "stdout",
     "output_type": "stream",
     "text": [
      "Hello world!\n"
     ]
    }
   ],
   "source": [
    "from module1 import printer\n",
    "printer('Hello world!')"
   ]
  },
  {
   "cell_type": "markdown",
   "metadata": {},
   "source": [
    "This form of **from** allows us to list one or more names to be copied out, separated by commas. Here, it has the same effect as the prior example, but because the imported name is copied into the scope where the from statement appears, using that name in the script requires less typing—we can use it directly instead of naming the enclosing module. In fact, we must; **from** doesn’t assign the name of the module itself.\n",
    "\n",
    "##### The from * Statement\n",
    "Finally, the next example uses a special form of from : when we use a * instead of specific names, we get copies of all names assigned at the top level of the referenced module. Here again, we can then use the copied name printer in our script without going through the module name:"
   ]
  },
  {
   "cell_type": "code",
   "execution_count": 2,
   "metadata": {},
   "outputs": [
    {
     "name": "stdout",
     "output_type": "stream",
     "text": [
      "Hello world!\n"
     ]
    }
   ],
   "source": [
    "from module1 import *        # Copy out _all_ variables\n",
    "printer('Hello world!')"
   ]
  },
  {
   "cell_type": "markdown",
   "metadata": {},
   "source": [
    "### 2.2 NumPy\n",
    "NumPy’s main object is the homogeneous multidimensional array. It is a table of elements (usually numbers), all of the same type, indexed by a tuple of positive integers.\n",
    "\n",
    "#### 2.2.1 Matrices in NumPy\n",
    "In standard python, **list** is used to store a series of values, but it suffers from the lack of the functions dealing with multidimensional arrays. This problem is addressed in NumPy.\n",
    "\n",
    "To create a matrix below, you may use **numpy.array** or **numpy.asarray** to convert **lists** into **matrix**:\n",
    "\n",
    "$\n",
    " \\begin{bmatrix}\n",
    "   1 & 2 & 3 \\\\\n",
    "   4 & 5 & 6 \\\\\n",
    "   7 & 8 & 9\n",
    "  \\end{bmatrix} %\\tag{4}\n",
    "$"
   ]
  },
  {
   "cell_type": "code",
   "execution_count": 2,
   "metadata": {},
   "outputs": [
    {
     "name": "stdout",
     "output_type": "stream",
     "text": [
      "M1 = \n",
      " [[1 2 3]\n",
      " [4 5 6]\n",
      " [7 8 9]]\n",
      "M2 = \n",
      " [[1 2 3]\n",
      " [4 5 6]\n",
      " [7 8 9]]\n"
     ]
    }
   ],
   "source": [
    "import numpy as np        # of course firstly import numpy\n",
    "\n",
    "L = [[1,2,3],[4,5,6],[7,8,9]]\n",
    "M1 = np.array(L)\n",
    "print('M1 = \\n', M1)\n",
    "M2 = np.asarray(L)\n",
    "print('M2 = \\n', M2)"
   ]
  },
  {
   "cell_type": "markdown",
   "metadata": {},
   "source": [
    "The two functions both can produce matrices, and the only difference is that when the input is an matrix, the function **np.array** will make a copy whereas **np.asarray** will not.\n",
    "\n",
    "Sometimes you may want to get a arithmetic progression， you can use **[numpy.linspace](https://docs.scipy.org/doc/numpy/user/quickstart.html)**:\n",
    "\n",
    "``` python\n",
    "numpy.linspace(start, stop, num=50, endpoint=True, retstep=False, dtype=None)\n",
    "```\n",
    "\n",
    "##### parameters\n",
    "**start : *scalar*** The starting value of the sequence.\n",
    "\n",
    "**stop : *scalar*** The end value of the sequence, unless endpoint is set to False. In that case, the sequence consists of all but the last of num + 1 evenly spaced samples, so that stop is excluded. Note that the step size changes when endpoint is False.\n",
    "\n",
    "**num : *int, optional*** Number of samples to generate. Default is 50. Must be non-negative.\n",
    "\n",
    "##### returns\n",
    "**samples : *ndarray*** There are num equally spaced samples in the closed interval [start, stop] or the half-open interval [start, stop) (depending on whether endpoint is True or False).\n",
    "\n",
    "For example, to obtain 1 to 10:"
   ]
  },
  {
   "cell_type": "code",
   "execution_count": 6,
   "metadata": {},
   "outputs": [
    {
     "name": "stdout",
     "output_type": "stream",
     "text": [
      "[  1.   2.   3.   4.   5.   6.   7.   8.   9.  10.]\n"
     ]
    }
   ],
   "source": [
    "V = np.linspace(1, 10, 10)\n",
    "print(V)"
   ]
  },
  {
   "cell_type": "markdown",
   "metadata": {},
   "source": [
    "#### 2.2.2 Dimension of matrix\n",
    "The dimension of a matrix can be read by accessing the attribute **shape**.\n",
    "\n",
    "On the other hand, the dimension of a matrix can be changed via **numpy.reshape**:"
   ]
  },
  {
   "cell_type": "code",
   "execution_count": 8,
   "metadata": {},
   "outputs": [
    {
     "name": "stdout",
     "output_type": "stream",
     "text": [
      "M = \n",
      " [[1 2 3]\n",
      " [4 5 6]]\n",
      "The shape of M:  (2, 3)\n",
      "M1 = \n",
      " [[1 2]\n",
      " [3 4]\n",
      " [5 6]]\n",
      "The shape of M1:  (3, 2)\n"
     ]
    }
   ],
   "source": [
    "M = np.array([[1,2,3],[4,5,6]])\n",
    "print('M = \\n', M)\n",
    "print('The shape of M: ', M.shape)         # M is a 2 by 3 matrix\n",
    "M1 = M.reshape(3, 2)\n",
    "print('M1 = \\n', M1)\n",
    "print('The shape of M1: ', M1.shape)       # M1 is a 3 by 2 matrix"
   ]
  },
  {
   "cell_type": "markdown",
   "metadata": {},
   "source": [
    "The dimension of a matrix may be changed via transposition. The transpose of matrix M is represented by M.T in NumPy:"
   ]
  },
  {
   "cell_type": "code",
   "execution_count": 3,
   "metadata": {},
   "outputs": [
    {
     "name": "stdout",
     "output_type": "stream",
     "text": [
      "M = \n",
      " [[1 2 3]\n",
      " [4 5 6]]\n",
      "M.T = \n",
      " [[1 4]\n",
      " [2 5]\n",
      " [3 6]]\n"
     ]
    }
   ],
   "source": [
    "M = np.array([[1,2,3],[4,5,6]])\n",
    "print('M = \\n', M)\n",
    "print('M.T = \\n', M.T)"
   ]
  },
  {
   "cell_type": "markdown",
   "metadata": {},
   "source": [
    "#### 2.2.3 Matrix functions\n",
    "NumPy offers a lot of practical functions, including **np.dot**, **np.power** **np.sum** et al.\n",
    "\n",
    "**np.dot** calculates the inner product of two matrices:\n",
    "\n",
    "**np.power** calculates power power.\n",
    "\n",
    "**np.sum** calculates the sum of two matrix along a designated axis."
   ]
  },
  {
   "cell_type": "code",
   "execution_count": 15,
   "metadata": {},
   "outputs": [
    {
     "name": "stdout",
     "output_type": "stream",
     "text": [
      "C = A·B = \n",
      " [0 8]\n",
      "D = A * A * A = \n",
      " [8 0 8]\n",
      "E = sum(B) = \n",
      " 7\n",
      "F = sum(B, axis=0) = \n",
      " [1 3 3]\n",
      "G = sum(B, axis=1) = \n",
      " [1 6]\n"
     ]
    }
   ],
   "source": [
    "A = np.array([2,0,2])\n",
    "B = np.array([[0,1,0],[1,2,3]])\n",
    "C = np.dot(A, B.T)\n",
    "print('C = A·B = \\n', C)\n",
    "D = np.power(A, 3)\n",
    "print('D = A * A * A = \\n', D)\n",
    "E = np.sum(B)\n",
    "F = np.sum(B, axis=0)\n",
    "G = np.sum(B, axis=1)\n",
    "print('E = sum(B) = \\n', E)\n",
    "print('F = sum(B, axis=0) = \\n', F)\n",
    "print('G = sum(B, axis=1) = \\n', G)"
   ]
  },
  {
   "cell_type": "markdown",
   "metadata": {},
   "source": [
    "### 2.3 pandas\n",
    "**pandas** is an open source, BSD-licensed library providing high-performance, easy-to-use data structures and data analysis tools for the Python programming language.\n",
    "\n",
    "Here pandas is used to import data and output data.\n",
    "\n",
    "#### DataFrame\n",
    "**DataFrame** is a 2-dimensional labeled data structure with columns of potentially different types. You can think of it like a spreadsheet or SQL table, or a dict of Series objects. It is generally the most commonly used pandas object. DataFrame accepts many different kinds of input:\n",
    "\n",
    "- Dict of 1D ndarrays, lists, dicts, or Series\n",
    "- 2-D numpy.ndarray\n",
    "- Structured or record ndarray\n",
    "- A Series\n",
    "- Another DataFrame\n",
    "\n",
    "Along with the data, you can optionally pass **index** (row labels) and **columns** (column labels) arguments. If you pass an index and / or columns, you are guaranteeing the index and / or columns of the resulting DataFrame.\n",
    "\n",
    "To view a small sample of a DataFrame object, use the head() and tail() methods. The default number of elements to display is five, but you may pass a custom number."
   ]
  },
  {
   "cell_type": "code",
   "execution_count": 1,
   "metadata": {},
   "outputs": [
    {
     "name": "stdout",
     "output_type": "stream",
     "text": [
      "   Number  Age  Weight\n",
      "0       1   16      55\n",
      "1       2   18      70\n",
      "2       3    5      10\n",
      "3       4   20      65\n",
      "4       5   22      90\n",
      "   Number  Age  Weight\n",
      "4       5   22      90\n",
      "5       6   10      70\n"
     ]
    }
   ],
   "source": [
    "import numpy as np\n",
    "import pandas as pd\n",
    "\n",
    "data = np.array([[1, 16, 55],[2, 18, 70],[3, 5, 10],[4, 20, 65],[5, 22, 90],[6, 10, 70]])\n",
    "header = ['Number', 'Age', 'Weight']\n",
    "df = pd.DataFrame(data, columns=header)\n",
    "print(df.head())\n",
    "print(df.tail(2))"
   ]
  },
  {
   "cell_type": "markdown",
   "metadata": {},
   "source": [
    "#### Converting DataFrame into NumPy array\n",
    "A DataFrame can be converted into a NumPy array using *numpy.array* or *numpy.asarray*:"
   ]
  },
  {
   "cell_type": "code",
   "execution_count": 5,
   "metadata": {},
   "outputs": [
    {
     "name": "stdout",
     "output_type": "stream",
     "text": [
      "[[ 1 16 55]\n",
      " [ 2 18 70]\n",
      " [ 3  5 10]\n",
      " [ 4 20 65]\n",
      " [ 5 22 90]\n",
      " [ 6 10 70]]\n"
     ]
    }
   ],
   "source": [
    "print(np.asarray(df))"
   ]
  },
  {
   "cell_type": "markdown",
   "metadata": {},
   "source": [
    "#### Reading and writing data\n",
    "*pandas* offers functions to read data from a .csv file, and write data to a .csv file:"
   ]
  },
  {
   "cell_type": "code",
   "execution_count": 8,
   "metadata": {},
   "outputs": [
    {
     "name": "stdout",
     "output_type": "stream",
     "text": [
      "   Number  Age  Weight\n",
      "0       1   16      55\n",
      "1       2   18      70\n",
      "2       3    5      10\n",
      "3       4   20      65\n",
      "4       5   22      90\n",
      "5       6   10      70\n"
     ]
    }
   ],
   "source": [
    "df.to_csv('Data/part2_1.csv', index=0)        # write the data of df to csv, without index\n",
    "df1 = pd.read_csv('Data/part2_1.csv')\n",
    "print(df1)"
   ]
  },
  {
   "cell_type": "markdown",
   "metadata": {},
   "source": [
    "### 2.4 Matplotlib"
   ]
  },
  {
   "cell_type": "markdown",
   "metadata": {},
   "source": [
    "### 2.5 SciPy\n",
    "**SciPy** is a collection of mathematical algorithms and convenience functions built on the **Numpy** extension of Python. It adds significant power to the interactive Python session by providing the user with high-level commands and classes for manipulating and visualizing data. With SciPy an interactive Python session becomes a data-processing and system-prototyping environment rivaling systems such as MATLAB, IDL, Octave, R-Lab, and SciLab.\n",
    "\n",
    "Here we use **SciPy** to implement least square method using *[scipy.optimize.leastsq](https://docs.scipy.org/doc/scipy/reference/generated/scipy.optimize.leastsq.html)*.\n",
    "\n",
    "``` python\n",
    "scipy.optimize.leastsq(func, x0, args=(), Dfun=None, full_output=0, col_deriv=0, ftol=1.49012e-08, \n",
    "                       xtol=1.49012e-08, gtol=0.0, maxfev=0, epsfcn=None, factor=100, diag=None)\n",
    "```\n",
    "\n",
    "Minimize the sum of squares of a set of equations.\n",
    "$x = \\mathop{\\arg\\min}_{y}( func(y)^2, axis=0 ) $\n",
    "\n",
    "##### parameters\n",
    "**func : *callable*** should take at least one (possibly length N vector) argument and returns M floating point numbers. It must not return NaNs or fitting might fail.\n",
    "\n",
    "**x0 : *ndarray*** The starting estimate for the minimization.\n",
    "\n",
    "***args : *tuple, optional** Any extra arguments to func are placed in this tuple.\n",
    "\n",
    "##### returns\n",
    "**x : *ndarray*** The solution (or the result of the last iteration for an unsuccessful call).\n",
    "\n",
    "**cov_x : ndarray*** Uses the fjac and ipvt optional outputs to construct an estimate of the jacobian around the solution. None if a singular matrix encountered (indicates very flat curvature in some direction). This matrix must be multiplied by the residual variance to get the covariance of the parameter estimates – see curve_fit.\n",
    "\n",
    "**infodict : *dict*** a dictionary of optional outputs with keys.\n",
    "\n",
    "**mesg : *str*** A string message giving information about the cause of failure.\n",
    "\n",
    "**ier : *int*** An integer flag. If it is equal to 1, 2, 3 or 4, the solution was found. Otherwise, the solution was not found. In either case, the optional output variable ‘mesg’ gives more information.\n",
    "\n",
    "#### Example\n",
    "Here is an example of calculating the value of x that makes $(x - 2)^2 + (y + 3)^2 + 3^2 $ reach minimum when $y = -1$."
   ]
  },
  {
   "cell_type": "code",
   "execution_count": 49,
   "metadata": {},
   "outputs": [
    {
     "name": "stdout",
     "output_type": "stream",
     "text": [
      "[ 2.]\n"
     ]
    }
   ],
   "source": [
    "import numpy as np\n",
    "from scipy.optimize import leastsq\n",
    "import matplotlib.pyplot as plt\n",
    "\n",
    "def func(x, y):\n",
    "    return [x-2, y+3, 3]\n",
    "\n",
    "x0 = 0            # we guess x may be 0 when the expression reaches the minimum\n",
    "y = -1\n",
    "x = leastsq(func, x0, args=(y))[0]\n",
    "print(x)"
   ]
  },
  {
   "cell_type": "code",
   "execution_count": null,
   "metadata": {},
   "outputs": [],
   "source": []
  }
 ],
 "metadata": {
  "kernelspec": {
   "display_name": "Python 3",
   "language": "python",
   "name": "python3"
  },
  "language_info": {
   "codemirror_mode": {
    "name": "ipython",
    "version": 3
   },
   "file_extension": ".py",
   "mimetype": "text/x-python",
   "name": "python",
   "nbconvert_exporter": "python",
   "pygments_lexer": "ipython3",
   "version": "3.5.2"
  }
 },
 "nbformat": 4,
 "nbformat_minor": 2
}
